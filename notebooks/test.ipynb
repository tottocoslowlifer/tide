{
 "cells": [
  {
   "cell_type": "code",
   "execution_count": 1,
   "metadata": {},
   "outputs": [],
   "source": [
    "import json\n",
    "import pickle\n",
    "\n",
    "import pandas as pd\n",
    "from sklearn.linear_model import LinearRegression\n",
    "from sklearn.model_selection import train_test_split"
   ]
  },
  {
   "cell_type": "code",
   "execution_count": 2,
   "metadata": {},
   "outputs": [],
   "source": [
    "def get_dataframe(cfg: dict) -> pd.DataFrame:\n",
    "    path = cfg[\"data_path\"]\n",
    "    df = pd.read_csv(path, index_col=0)\n",
    "\n",
    "    label_list = []\n",
    "    for i in range(len(df)):\n",
    "        tide = df.loc[i, \"tide level\"]\n",
    "        if tide > 200.00:\n",
    "            label_list.append(1)  # 門司港レトロクルーズ\n",
    "        elif tide > 150.00:\n",
    "            label_list.append(2)  # 関門海峡クルージング\n",
    "        elif tide > 100.00:\n",
    "            label_list.append(3)  # 巌流島上陸\n",
    "        else:\n",
    "            label_list.append(4)   # 運行中止\n",
    "\n",
    "    df[\"label\"] = label_list\n",
    "\n",
    "    return df\n",
    "\n",
    "\n",
    "def make_datasets(df: pd.DataFrame, cfg: dict) -> dict:\n",
    "    pre_df = df.copy().drop(\n",
    "        [\n",
    "            \"longitude\", \"calendar\", \"JMA\", \"MIRC\",\n",
    "            \"rainfall(mm)\", \"temperature(℃)\",\n",
    "        ],\n",
    "        axis=1,\n",
    "    )\n",
    "\n",
    "    X_cols = []\n",
    "    y_cols = [\"tide level\", \"label\"]\n",
    "    for i in range(1, 13):\n",
    "        title = f\"tide level shift {i}h\"\n",
    "        X_cols.append(title)\n",
    "        pre_df[title] = pre_df[\"tide level\"].shift(i)\n",
    "    X_cols.append(\"tide level shift 1y\")\n",
    "    pre_df[\"tide level shift 1y\"] = pre_df[\"tide level\"].shift(8570)\n",
    "    X_cols.append(\"moon phase\")\n",
    "\n",
    "    pre_df = pre_df.dropna().reset_index().drop(\"index\", axis=1)\n",
    "    X = pre_df[X_cols]\n",
    "    y = pre_df[y_cols]\n",
    "    X_train, X_test, y_train, y_test = train_test_split(\n",
    "        X, y, test_size=cfg[\"split_rate\"], random_state=cfg[\"seed\"]\n",
    "    )\n",
    "\n",
    "    out = {\n",
    "        \"datasets\": pre_df,\n",
    "        \"X\": X,\n",
    "        \"X_cols\": X_cols,\n",
    "        \"y\": y,\n",
    "        \"y_cols\": y_cols,\n",
    "        \"X_train\": X_train,\n",
    "        \"y_train\": y_train,\n",
    "        \"X_test\": X_test,\n",
    "        \"y_test\": y_test,\n",
    "    }\n",
    "\n",
    "    return out\n",
    "\n",
    "\n",
    "def LRModel(cfg: dict, load_model=False, filename=None, X=None, y=None):\n",
    "    if load_model:\n",
    "        loaded_model = pickle.load(open(filename, \"rb\"))\n",
    "        return loaded_model\n",
    "\n",
    "    else:\n",
    "        model = LinearRegression(\n",
    "            fit_intercept=bool(cfg[\"params\"][\"fit_intercept\"]),\n",
    "            copy_X=bool(cfg[\"params\"][\"copy_X\"]),\n",
    "            n_jobs=cfg[\"params\"][\"n_jobs\"],\n",
    "            positive=bool(cfg[\"params\"][\"positive\"]),\n",
    "        )\n",
    "        model.fit(X, y)\n",
    "        return model"
   ]
  },
  {
   "cell_type": "code",
   "execution_count": 3,
   "metadata": {},
   "outputs": [],
   "source": [
    "filename = \"../config/default/LinearRegression.json\"\n",
    "with open(filename) as f:\n",
    "    cfg = json.load(f)"
   ]
  },
  {
   "cell_type": "code",
   "execution_count": 4,
   "metadata": {},
   "outputs": [],
   "source": [
    "cfg[\"data_path\"] = \"../data/Full_2011-2021/preprocessed_same.csv\"\n",
    "df = get_dataframe(cfg)\n",
    "out = make_datasets(df, cfg)"
   ]
  },
  {
   "cell_type": "code",
   "execution_count": 5,
   "metadata": {},
   "outputs": [],
   "source": [
    "model = LRModel(cfg, X=out[\"X_train\"], y=out[\"y_train\"][\"tide level\"])"
   ]
  },
  {
   "cell_type": "code",
   "execution_count": null,
   "metadata": {},
   "outputs": [],
   "source": []
  }
 ],
 "metadata": {
  "kernelspec": {
   "display_name": "Python 3",
   "language": "python",
   "name": "python3"
  },
  "language_info": {
   "codemirror_mode": {
    "name": "ipython",
    "version": 3
   },
   "file_extension": ".py",
   "mimetype": "text/x-python",
   "name": "python",
   "nbconvert_exporter": "python",
   "pygments_lexer": "ipython3",
   "version": "3.11.5"
  }
 },
 "nbformat": 4,
 "nbformat_minor": 2
}
