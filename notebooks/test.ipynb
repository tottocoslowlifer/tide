{
 "cells": [
  {
   "cell_type": "markdown",
   "metadata": {},
   "source": [
    "### モジュール，データフレームの読み込み"
   ]
  },
  {
   "cell_type": "code",
   "execution_count": 1,
   "metadata": {},
   "outputs": [],
   "source": [
    "import json\n",
    "import pickle\n",
    "\n",
    "import matplotlib.pyplot as plt\n",
    "import numpy as np\n",
    "import pandas as pd\n",
    "\n",
    "from sklearn.linear_model import LinearRegression\n",
    "\n",
    "from sklearn.metrics import classification_report\n",
    "from sklearn.metrics import mean_squared_error\n",
    "from sklearn.metrics import multilabel_confusion_matrix\n",
    "from sklearn.metrics import r2_score\n",
    "\n",
    "from sklearn.model_selection import train_test_split"
   ]
  },
  {
   "cell_type": "markdown",
   "metadata": {},
   "source": [
    "### 関数の定義"
   ]
  },
  {
   "cell_type": "code",
   "execution_count": 2,
   "metadata": {},
   "outputs": [],
   "source": [
    "def get_dataframe(cfg: dict) -> pd.DataFrame:\n",
    "    path = cfg[\"data_path\"]\n",
    "    df = pd.read_csv(path, index_col=0)\n",
    "\n",
    "    label_list = []\n",
    "    for i in range(len(df)):\n",
    "        tide = df.loc[i, \"tide level\"]\n",
    "        if tide > 200.00:\n",
    "            label_list.append(1)  # 門司港レトロクルーズ\n",
    "        elif tide > 150.00:\n",
    "            label_list.append(2)  # 関門海峡クルージング\n",
    "        elif tide > 100.00:\n",
    "            label_list.append(3)  # 巌流島上陸\n",
    "        else:\n",
    "            label_list.append(4)   # 運行中止\n",
    "\n",
    "    df[\"label\"] = label_list\n",
    "\n",
    "    return df\n",
    "\n",
    "\n",
    "def make_datasets(df: pd.DataFrame, cfg: dict) -> dict:\n",
    "    pre_df = df.copy().drop(\n",
    "        [\n",
    "            \"longitude\", \"calendar\", \"JMA\", \"MIRC\",\n",
    "            \"rainfall(mm)\", \"temperature(℃)\",\n",
    "        ],\n",
    "        axis=1,\n",
    "    )\n",
    "\n",
    "    X_cols = []\n",
    "    y_cols = [\"tide level\", \"label\"]\n",
    "    for i in range(1, 13):\n",
    "        title = f\"tide level shift {i}h\"\n",
    "        X_cols.append(title)\n",
    "        pre_df[title] = pre_df[\"tide level\"].shift(i)\n",
    "    X_cols.append(\"tide level shift 1y\")\n",
    "    pre_df[\"tide level shift 1y\"] = pre_df[\"tide level\"].shift(8570)\n",
    "    X_cols.append(\"moon phase\")\n",
    "\n",
    "    pre_df = pre_df.dropna().reset_index().drop(\"index\", axis=1)\n",
    "    X = pre_df[X_cols]\n",
    "    y = pre_df[y_cols]\n",
    "    X_train, X_test, y_train, y_test = train_test_split(\n",
    "        X, y, test_size=cfg[\"split_rate\"], random_state=cfg[\"seed\"]\n",
    "    )\n",
    "\n",
    "    out = {\n",
    "        \"datasets\": pre_df,\n",
    "        \"X\": X,\n",
    "        \"X_cols\": X_cols,\n",
    "        \"y\": y,\n",
    "        \"y_cols\": y_cols,\n",
    "        \"X_train\": X_train,\n",
    "        \"y_train\": y_train,\n",
    "        \"X_test\": X_test,\n",
    "        \"y_test\": y_test,\n",
    "    }\n",
    "\n",
    "    return out\n",
    "\n",
    "\n",
    "def LRModel(cfg: dict, load_model=False, filename=None, X=None, y=None):\n",
    "    if load_model:\n",
    "        loaded_model = pickle.load(open(filename, \"rb\"))\n",
    "        return loaded_model\n",
    "\n",
    "    else:\n",
    "        model = LinearRegression(\n",
    "            fit_intercept=bool(cfg[\"params\"][\"fit_intercept\"]),\n",
    "            copy_X=bool(cfg[\"params\"][\"copy_X\"]),\n",
    "            n_jobs=cfg[\"params\"][\"n_jobs\"],\n",
    "            positive=bool(cfg[\"params\"][\"positive\"]),\n",
    "        )\n",
    "        model.fit(X, y)\n",
    "        return model"
   ]
  },
  {
   "cell_type": "markdown",
   "metadata": {},
   "source": [
    "### 重回帰分析を行う"
   ]
  },
  {
   "cell_type": "code",
   "execution_count": 3,
   "metadata": {},
   "outputs": [],
   "source": [
    "filename = \"../config/default/LinearRegression.json\"\n",
    "with open(filename) as f:\n",
    "    cfg = json.load(f)"
   ]
  },
  {
   "cell_type": "code",
   "execution_count": 4,
   "metadata": {},
   "outputs": [],
   "source": [
    "cfg[\"data_path\"] = \"../data/Full_2011-2021/preprocessed_same.csv\"\n",
    "df = get_dataframe(cfg)\n",
    "out = make_datasets(df, cfg)"
   ]
  },
  {
   "cell_type": "code",
   "execution_count": 5,
   "metadata": {},
   "outputs": [],
   "source": [
    "model = LRModel(cfg, X=out[\"X_train\"], y=out[\"y_train\"][\"tide level\"])"
   ]
  },
  {
   "cell_type": "code",
   "execution_count": 6,
   "metadata": {},
   "outputs": [],
   "source": [
    "y_pred = model.predict(out[\"X_test\"])\n",
    "\n",
    "pred_df = pd.DataFrame(y_pred, columns=[\"tide level\"])\n",
    "pred_df.to_csv(\"../outputs/LinearRegression/2024-05-21/13-29-05/pred.csv\")\n",
    "\n",
    "cfg[\"data_path\"] = \"../outputs/LinearRegression/2024-05-21/13-29-05/pred.csv\"\n",
    "pred_df = get_dataframe(cfg)"
   ]
  },
  {
   "cell_type": "markdown",
   "metadata": {},
   "source": [
    "### 潮位データを用いた評価"
   ]
  },
  {
   "cell_type": "markdown",
   "metadata": {},
   "source": [
    "#### 残差プロット"
   ]
  },
  {
   "cell_type": "code",
   "execution_count": 7,
   "metadata": {},
   "outputs": [
    {
     "data": {
      "image/png": "[encoded data removed]",
      "text/plain": [
       "<Figure size 640x480 with 1 Axes>"
      ]
     },
     "metadata": {},
     "output_type": "display_data"
    }
   ],
   "source": [
    "plt.scatter(y_pred, y_pred - out[\"y_test\"][\"tide level\"], color = 'blue')\n",
    "plt.hlines(y = 0, xmin = -10, xmax = 50, color = 'black')\n",
    "plt.title('Residual Plot')\n",
    "plt.xlabel('Predicted Values')\n",
    "plt.ylabel('Residuals')\n",
    "plt.grid()\n",
    "\n",
    "plt.show()"
   ]
  },
  {
   "cell_type": "markdown",
   "metadata": {},
   "source": [
    "上は,潮位のテストデータを用いた予測値と,もとの潮位との残差をプロットしたものである.\n",
    "残差は,概ね0付近に集まっていることが分かる."
   ]
  },
  {
   "cell_type": "markdown",
   "metadata": {},
   "source": [
    "#### MSEおよび決定係数による定量的評価"
   ]
  },
  {
   "cell_type": "code",
   "execution_count": 8,
   "metadata": {},
   "outputs": [
    {
     "name": "stdout",
     "output_type": "stream",
     "text": [
      "MSE train data:  10.81247530950792\n",
      "MSE test data:  10.691404184698312\n"
     ]
    }
   ],
   "source": [
    "# 平均二乗誤差(MSE)を求める\n",
    "y_train_pred = model.predict(out[\"X_train\"])\n",
    "\n",
    "print('MSE train data: ', mean_squared_error(out[\"y_train\"][\"tide level\"], y_train_pred))\n",
    "print('MSE test data: ', mean_squared_error(out[\"y_test\"][\"tide level\"], y_pred))"
   ]
  },
  {
   "cell_type": "code",
   "execution_count": 9,
   "metadata": {},
   "outputs": [
    {
     "name": "stdout",
     "output_type": "stream",
     "text": [
      "r^2 train data:  0.99670560781792\n",
      "r^2 test data:  0.9966860152589192\n"
     ]
    }
   ],
   "source": [
    "# 決定係数を求める\n",
    "print('r^2 train data: ', r2_score(out[\"y_train\"][\"tide level\"], y_train_pred))\n",
    "print('r^2 test data: ', r2_score(out[\"y_test\"][\"tide level\"], y_pred))"
   ]
  },
  {
   "cell_type": "markdown",
   "metadata": {},
   "source": [
    "決定係数が1.0に極めて近いため,良いモデルであると言える.さらに,学習用データを用いた場合よりも,テストデータを用いた場合の方が,平均二乗誤差が小さくなったことから,過学習が起きている可能性は低いと考えられる."
   ]
  },
  {
   "cell_type": "markdown",
   "metadata": {},
   "source": [
    "### ラベリングを用いた評価"
   ]
  },
  {
   "cell_type": "code",
   "execution_count": 11,
   "metadata": {},
   "outputs": [
    {
     "name": "stdout",
     "output_type": "stream",
     "text": [
      "              precision    recall  f1-score   support\n",
      "\n",
      "           1       0.93      0.95      0.94      4069\n",
      "           2       0.95      0.95      0.95      8074\n",
      "           3       0.96      0.95      0.95      6752\n",
      "           4       0.98      0.98      0.98      6816\n",
      "\n",
      "    accuracy                           0.96     25711\n",
      "   macro avg       0.96      0.96      0.96     25711\n",
      "weighted avg       0.96      0.96      0.96     25711\n",
      "\n"
     ]
    }
   ],
   "source": [
    "# 分類レポートの作成\n",
    "label = [\"1\", \"2\", \"3\", \"4\"]\n",
    "print(classification_report(out[\"y_test\"][\"label\"], pred_df[\"label\"],target_names=label))"
   ]
  },
  {
   "cell_type": "markdown",
   "metadata": {},
   "source": [
    "精度,再現率,F1スコアのいずれも,1に近い.中でも「ラベル4」の項目では,高い数値を示している.これは,階級の幅が,ラベル1,2,3では50であるのに対し,ラベル4では100であるというところに由来すると考察できる."
   ]
  },
  {
   "cell_type": "markdown",
   "metadata": {},
   "source": [
    "以上の各評価より,今回のモデルは良いものであると言える."
   ]
  }
 ],
 "metadata": {
  "kernelspec": {
   "display_name": "Python 3",
   "language": "python",
   "name": "python3"
  },
  "language_info": {
   "codemirror_mode": {
    "name": "ipython",
    "version": 3
   },
   "file_extension": ".py",
   "mimetype": "text/x-python",
   "name": "python",
   "nbconvert_exporter": "python",
   "pygments_lexer": "ipython3",
   "version": "3.11.5"
  }
 },
 "nbformat": 4,
 "nbformat_minor": 2
}
